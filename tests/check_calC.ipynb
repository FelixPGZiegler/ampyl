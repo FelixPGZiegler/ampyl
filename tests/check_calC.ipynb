{
 "cells": [
  {
   "cell_type": "markdown",
   "id": "4bc3a8cf",
   "metadata": {},
   "source": [
    "# Calligraphic C\n",
    "\n",
    "Note that at the moment only isospin choices where $I_k \\in \\left\\{\\frac{1}{2},1\\right\\}$ are supported. \n",
    "When calling the constructor to create an instance of the TPIsospinComposite class the \n",
    "list of arguments, i.e. the isospins of the three particles $I_1,I_2,I_3$, should be \n",
    "inserted in descending order (ToDo - update this)."
   ]
  },
  {
   "cell_type": "code",
   "execution_count": 8,
   "id": "9fe16ef7",
   "metadata": {},
   "outputs": [],
   "source": [
    "import numpy as np\n",
    "import sys\n",
    "lib_path = \"../../ampyl\"\n",
    "sys.path.append(lib_path + \"/ampyl\")\n",
    "sys.path.append(lib_path + \"/ampyl/isospin\")\n",
    "import isospin as iso"
   ]
  },
  {
   "cell_type": "markdown",
   "id": "0c33a1ec",
   "metadata": {},
   "source": [
    "## Spin Objects\n",
    "\n",
    "### Simple Isospin objects\n",
    "\n",
    "This is the simplest isospin object determined by the total (iso-)spin $j$.\n",
    "\n",
    "#### Example"
   ]
  },
  {
   "cell_type": "code",
   "execution_count": 9,
   "id": "01c48a6c",
   "metadata": {},
   "outputs": [
    {
     "name": "stdout",
     "output_type": "stream",
     "text": [
      "[ 1.  0. -1.]\n"
     ]
    }
   ],
   "source": [
    "SpinObj = iso.SpinObj(1.0)\n",
    "print(SpinObj.mlist)"
   ]
  },
  {
   "cell_type": "markdown",
   "id": "079b6cb3",
   "metadata": {},
   "source": [
    "### Composite Isospin objects\n",
    "\n",
    "#### Example: \n",
    "$j_1 = 2, j_2 = 1$"
   ]
  },
  {
   "cell_type": "code",
   "execution_count": 10,
   "id": "04981ac6",
   "metadata": {},
   "outputs": [
    {
     "name": "stdout",
     "output_type": "stream",
     "text": [
      "1.0\n",
      "3.0\n",
      "3\n",
      "[3.0, 2.0, 1.0]\n",
      "[[3.0, 2.0, 1.0, 0.0, -1.0, -2.0, -3.0], [2.0, 1.0, 0.0, -1.0, -2.0], [1.0, 0.0, -1.0]]\n"
     ]
    }
   ],
   "source": [
    "Jobj = iso.IsospinComposite(2.0,1.0)\n",
    "print(Jobj.jmin)\n",
    "print(Jobj.jmax)\n",
    "print(Jobj.nj)\n",
    "print(Jobj.jlist)\n",
    "print(Jobj.mlist)"
   ]
  },
  {
   "cell_type": "code",
   "execution_count": 11,
   "id": "b982a67c",
   "metadata": {},
   "outputs": [
    {
     "name": "stdout",
     "output_type": "stream",
     "text": [
      "[[2.0, 1.0], [2.0, 0.0], [2.0, -1.0], [1.0, 1.0], [1.0, 0.0], [1.0, -1.0], [0.0, 1.0], [0.0, 0.0], [0.0, -1.0], [-1.0, 1.0], [-1.0, 0.0], [-1.0, -1.0], [-2.0, 1.0], [-2.0, 0.0], [-2.0, -1.0]]\n"
     ]
    }
   ],
   "source": [
    "ucb = Jobj.get_uncoupled_basis()\n",
    "print(ucb)"
   ]
  },
  {
   "cell_type": "markdown",
   "id": "eb7a3559",
   "metadata": {},
   "source": [
    "When dealing with composite spin objects the translation dictionnary between the coupled and the uncoupled basis is important. The following method provides a look-up table for the  column indices in the matrix of Clebsch-Gordan coefficients and tells the user which states in the uncoupled basis are involved for each $(j,m)$-pair specified."
   ]
  },
  {
   "cell_type": "code",
   "execution_count": 13,
   "id": "6b474da2",
   "metadata": {},
   "outputs": [
    {
     "name": "stdout",
     "output_type": "stream",
     "text": [
      "Info on building blocks for coupled states --- column indices in the CG matrix.\n",
      "Set of J values = [3.0, 2.0, 1.0]\n",
      "\n",
      "m = 3.0, Index set = [0], (m1,m2) building blocks = [[2.0, 1.0]]\n",
      "m = 2.0, Index set = [1, 3], (m1,m2) building blocks = [[2.0, 0.0], [1.0, 1.0]]\n",
      "m = 1.0, Index set = [2, 4, 6], (m1,m2) building blocks = [[2.0, -1.0], [1.0, 0.0], [0.0, 1.0]]\n",
      "m = 0.0, Index set = [5, 7, 9], (m1,m2) building blocks = [[1.0, -1.0], [0.0, 0.0], [-1.0, 1.0]]\n",
      "m = -1.0, Index set = [8, 10, 12], (m1,m2) building blocks = [[0.0, -1.0], [-1.0, 0.0], [-2.0, 1.0]]\n",
      "m = -2.0, Index set = [11, 13], (m1,m2) building blocks = [[-1.0, -1.0], [-2.0, 0.0]]\n",
      "m = -3.0, Index set = [14], (m1,m2) building blocks = [[-2.0, -1.0]]\n",
      "\n",
      "\n",
      "m = 2.0, Index set = [1, 3], (m1,m2) building blocks = [[2.0, 0.0], [1.0, 1.0]]\n",
      "m = 1.0, Index set = [2, 4, 6], (m1,m2) building blocks = [[2.0, -1.0], [1.0, 0.0], [0.0, 1.0]]\n",
      "m = 0.0, Index set = [5, 7, 9], (m1,m2) building blocks = [[1.0, -1.0], [0.0, 0.0], [-1.0, 1.0]]\n",
      "m = -1.0, Index set = [8, 10, 12], (m1,m2) building blocks = [[0.0, -1.0], [-1.0, 0.0], [-2.0, 1.0]]\n",
      "m = -2.0, Index set = [11, 13], (m1,m2) building blocks = [[-1.0, -1.0], [-2.0, 0.0]]\n",
      "\n",
      "\n",
      "m = 1.0, Index set = [2, 4, 6], (m1,m2) building blocks = [[2.0, -1.0], [1.0, 0.0], [0.0, 1.0]]\n",
      "m = 0.0, Index set = [5, 7, 9], (m1,m2) building blocks = [[1.0, -1.0], [0.0, 0.0], [-1.0, 1.0]]\n",
      "m = -1.0, Index set = [8, 10, 12], (m1,m2) building blocks = [[0.0, -1.0], [-1.0, 0.0], [-2.0, 1.0]]\n",
      "\n",
      "\n"
     ]
    }
   ],
   "source": [
    "Jobj.get_cg_col_info()"
   ]
  },
  {
   "cell_type": "markdown",
   "id": "b698091d",
   "metadata": {},
   "source": [
    "## Three-particle Isospin Composite Object\n",
    "\n",
    "- default is all $j_i = 1$"
   ]
  },
  {
   "cell_type": "code",
   "execution_count": 16,
   "id": "3a016cc0",
   "metadata": {},
   "outputs": [
    {
     "name": "stdout",
     "output_type": "stream",
     "text": [
      "[[1.0, 1.0, 1.0], [1.0, 1.0, 0.0], [1.0, 1.0, -1.0], [1.0, 0.0, 1.0], [1.0, 0.0, 0.0], [1.0, 0.0, -1.0], [1.0, -1.0, 1.0], [1.0, -1.0, 0.0], [1.0, -1.0, -1.0], [0.0, 1.0, 1.0], [0.0, 1.0, 0.0], [0.0, 1.0, -1.0], [0.0, 0.0, 1.0], [0.0, 0.0, 0.0], [0.0, 0.0, -1.0], [0.0, -1.0, 1.0], [0.0, -1.0, 0.0], [0.0, -1.0, -1.0], [-1.0, 1.0, 1.0], [-1.0, 1.0, 0.0], [-1.0, 1.0, -1.0], [-1.0, 0.0, 1.0], [-1.0, 0.0, 0.0], [-1.0, 0.0, -1.0], [-1.0, -1.0, 1.0], [-1.0, -1.0, 0.0], [-1.0, -1.0, -1.0]]\n",
      "[[1.0, 0.0, -1.0], [1.0, -1.0, 0.0], [0.0, 1.0, -1.0], [0.0, 0.0, 0.0], [0.0, -1.0, 1.0], [-1.0, 1.0, 0.0], [-1.0, 0.0, 1.0]]\n",
      "[3.0, 2.0, 1.0, 0.0]\n",
      "[[3.0, 2.0, 1.0], [2.0, 1.0, 0.0], [1.0]]\n",
      "[[3.0, 2.0, 1.0], [2.0, 1.0, 0.0], [1.0]]\n",
      "[2.0, 1.0, 0.0]\n",
      "Total isospin in descending order:\n",
      "\n",
      "I3 = 3.0 contains:\n",
      "  J2 = 2.0\n",
      "I3 = 2.0 contains:\n",
      "  J2 = 2.0\n",
      "  J2 = 1.0\n",
      "I3 = 1.0 contains:\n",
      "  J2 = 2.0\n",
      "  J2 = 1.0\n",
      "  J2 = 0.0\n",
      "I3 = 0.0 contains:\n",
      "  J2 = 1.0\n"
     ]
    }
   ],
   "source": [
    "Iobj = iso.TPIsospinComposite()\n",
    "print(Iobj.TPuncoupledbasis)\n",
    "print(Iobj.TPIzerochannelbasis)\n",
    "print(Iobj.Ilist)\n",
    "print(Iobj.Ishelllist)\n",
    "print(Iobj.Iset)\n",
    "print(Iobj.Dimer.jlist)\n",
    "Iobj.print_Ishell_composition()"
   ]
  },
  {
   "cell_type": "markdown",
   "id": "1fe137e6",
   "metadata": {},
   "source": [
    "### Calligraphic C"
   ]
  },
  {
   "cell_type": "code",
   "execution_count": 17,
   "id": "62032a10",
   "metadata": {},
   "outputs": [
    {
     "name": "stdout",
     "output_type": "stream",
     "text": [
      "\n",
      " Shell list\n",
      "[1.5, 0.5]\n",
      "\n",
      "\n",
      "Total isospin in descending order:\n",
      "\n",
      "I3 = 1.5 contains:\n",
      "  J2 = 1.0\n",
      "I3 = 0.5 contains:\n",
      "  J2 = 1.0\n",
      "  J2 = 0.0\n",
      "\n",
      "Zero channel basis\n",
      "[[0.5, 0.5, -0.5], [0.5, -0.5, 0.5], [-0.5, 0.5, 0.5]]\n",
      "\n",
      "Calligraphic C\n",
      "[[ 0.57735027+0.j  0.57735027+0.j  0.57735027+0.j]\n",
      " [ 0.81649658+0.j -0.40824829+0.j -0.40824829+0.j]\n",
      " [ 0.        +0.j  0.70710678+0.j -0.70710678+0.j]]\n",
      "\n",
      " Orthogonality check\n",
      "[[1.00000000e+00+0.j 3.55968130e-17+0.j 3.55968130e-17+0.j]\n",
      " [3.55968130e-17+0.j 1.00000000e+00+0.j 8.86511593e-17+0.j]\n",
      " [3.55968130e-17+0.j 8.86511593e-17+0.j 1.00000000e+00+0.j]]\n"
     ]
    }
   ],
   "source": [
    "ItestObj2=iso.TPIsospinComposite(0.5,0.5,0.5)\n",
    "print(\"\\n Shell list\")\n",
    "print(ItestObj2.Ilist)\n",
    "print(\"\\n\")\n",
    "ItestObj2.print_Ishell_composition()\n",
    "print(\"\\nZero channel basis\")\n",
    "print(ItestObj2.TPIzerochannelbasis)\n",
    "print(\"\\nCalligraphic C\")\n",
    "ItestObj2.set_CaligraphicC()\n",
    "CalCObj2 = ItestObj2.CaligraphicC\n",
    "print(CalCObj2)\n",
    "print(\"\\n Orthogonality check\")\n",
    "print(np.dot(np.transpose(CalCObj2),CalCObj2))"
   ]
  },
  {
   "cell_type": "code",
   "execution_count": 18,
   "id": "2441d94b",
   "metadata": {},
   "outputs": [
    {
     "name": "stdout",
     "output_type": "stream",
     "text": [
      "\n",
      " Shell list\n",
      "[2.5, 1.5, 0.5]\n",
      "\n",
      "\n",
      "Total isospin in descending order:\n",
      "\n",
      "I3 = 2.5 contains:\n",
      "  J2 = 2.0\n",
      "I3 = 1.5 contains:\n",
      "  J2 = 2.0\n",
      "  J2 = 1.0\n",
      "I3 = 0.5 contains:\n",
      "  J2 = 1.0\n",
      "  J2 = 0.0\n",
      "\n",
      "Zero channel basis\n",
      "[[1.0, 0.0, -0.5], [1.0, -1.0, 0.5], [0.0, 1.0, -0.5], [0.0, 0.0, 0.5], [-1.0, 1.0, 0.5]]\n",
      "\n",
      "Calligraphic C\n",
      "[[ 0.4472136 +0.j  0.31622777+0.j  0.4472136 +0.j  0.63245553+0.j\n",
      "   0.31622777+0.j]\n",
      " [ 0.54772256+0.j -0.25819889+0.j  0.54772256+0.j -0.51639778+0.j\n",
      "  -0.25819889+0.j]\n",
      " [ 0.40824829+0.j  0.57735027+0.j -0.40824829+0.j  0.        +0.j\n",
      "  -0.57735027+0.j]\n",
      " [ 0.57735027+0.j -0.40824829+0.j -0.57735027+0.j -0.        +0.j\n",
      "   0.40824829-0.j]\n",
      " [ 0.        +0.j  0.57735027+0.j  0.        +0.j -0.57735027+0.j\n",
      "   0.57735027+0.j]]\n",
      "\n",
      " Orthogonality check\n",
      "[[ 1.00000000e+00+0.j  1.07657285e-17+0.j -3.53898111e-17+0.j\n",
      "  -1.29288831e-17+0.j  1.69898471e-17+0.j]\n",
      " [ 1.07657285e-17+0.j  1.00000000e+00+0.j  1.69898471e-17+0.j\n",
      "   2.94613014e-18+0.j  1.63587324e-16+0.j]\n",
      " [-3.53898111e-17+0.j  1.69898471e-17+0.j  1.00000000e+00+0.j\n",
      "  -1.29288831e-17+0.j  1.07657285e-17+0.j]\n",
      " [-1.29288831e-17+0.j  2.94613014e-18+0.j -1.29288831e-17+0.j\n",
      "   1.00000000e+00+0.j  2.94613014e-18+0.j]\n",
      " [ 1.69898471e-17+0.j  1.63587324e-16+0.j  1.07657285e-17+0.j\n",
      "   2.94613014e-18+0.j  1.00000000e+00+0.j]]\n"
     ]
    }
   ],
   "source": [
    "ItestObj2=iso.TPIsospinComposite(1.0,1.0,0.5)\n",
    "print(\"\\n Shell list\")\n",
    "print(ItestObj2.Ilist)\n",
    "print(\"\\n\")\n",
    "ItestObj2.print_Ishell_composition()\n",
    "print(\"\\nZero channel basis\")\n",
    "print(ItestObj2.TPIzerochannelbasis)\n",
    "print(\"\\nCalligraphic C\")\n",
    "ItestObj2.set_CaligraphicC()\n",
    "CalCObj2 = ItestObj2.CaligraphicC\n",
    "print(CalCObj2)\n",
    "print(\"\\n Orthogonality check\")\n",
    "print(np.dot(np.transpose(CalCObj2),CalCObj2))"
   ]
  },
  {
   "cell_type": "code",
   "execution_count": 19,
   "id": "c47c6591",
   "metadata": {},
   "outputs": [
    {
     "name": "stdout",
     "output_type": "stream",
     "text": [
      "\n",
      " Shell list\n",
      "[[2.0, 1.0], [1.0, 0.0]]\n",
      "[2.0, 1.0, 0.0]\n",
      "\n",
      "\n",
      "Total isospin in descending order:\n",
      "\n",
      "I3 = 2.0 contains:\n",
      "  J2 = 1.5\n",
      "I3 = 1.0 contains:\n",
      "  J2 = 1.5\n",
      "  J2 = 0.5\n",
      "I3 = 0.0 contains:\n",
      "  J2 = 0.5\n",
      "\n",
      "Zero channel basis\n",
      "[[1.0, -0.5, -0.5], [0.0, 0.5, -0.5], [0.0, -0.5, 0.5], [-1.0, 0.5, 0.5]]\n",
      "\n",
      "Calligraphic C\n",
      "[[ 0.40824829+0.j  0.57735027+0.j  0.57735027+0.j  0.40824829+0.j]\n",
      " [ 0.40824829+0.j  0.57735027+0.j -0.57735027+0.j -0.40824829+0.j]\n",
      " [ 0.57735027+0.j -0.40824829+0.j  0.40824829+0.j -0.57735027+0.j]\n",
      " [ 0.57735027+0.j -0.40824829+0.j -0.40824829+0.j  0.57735027-0.j]]\n",
      "\n",
      " Orthogonality check\n",
      "[[ 1.00000000e+00+0.j  1.07657285e-17+0.j  1.07657285e-17+0.j\n",
      "  -2.01213401e-17+0.j]\n",
      " [ 1.07657285e-17+0.j  1.00000000e+00+0.j  9.95716912e-18+0.j\n",
      "   1.07657285e-17+0.j]\n",
      " [ 1.07657285e-17+0.j  9.95716912e-18+0.j  1.00000000e+00+0.j\n",
      "   1.07657285e-17+0.j]\n",
      " [-2.01213401e-17+0.j  1.07657285e-17+0.j  1.07657285e-17+0.j\n",
      "   1.00000000e+00+0.j]]\n"
     ]
    }
   ],
   "source": [
    "ItestObj3=iso.TPIsospinComposite(1.0,0.5,0.5)\n",
    "print(\"\\n Shell list\")\n",
    "print(ItestObj3.Iset)\n",
    "print(ItestObj3.Ilist)\n",
    "print(\"\\n\")\n",
    "ItestObj3.print_Ishell_composition()\n",
    "print(\"\\nZero channel basis\")\n",
    "print(ItestObj3.TPIzerochannelbasis)\n",
    "#print(ItestObj3.Imax)\n",
    "print(\"\\nCalligraphic C\")\n",
    "ItestObj3.set_CaligraphicC()\n",
    "CalCObj3 = ItestObj3.CaligraphicC\n",
    "print(CalCObj3)\n",
    "print(\"\\n Orthogonality check\")\n",
    "print(np.dot(np.transpose(CalCObj3),CalCObj3))"
   ]
  },
  {
   "cell_type": "code",
   "execution_count": 20,
   "id": "48eb87a5",
   "metadata": {},
   "outputs": [
    {
     "name": "stdout",
     "output_type": "stream",
     "text": [
      "\n",
      " Shell list\n",
      "[[3.0, 2.0, 1.0], [2.0, 1.0, 0.0], [1.0]]\n",
      "[3.0, 2.0, 1.0, 0.0]\n",
      "\n",
      "\n",
      "Total isospin in descending order:\n",
      "\n",
      "I3 = 3.0 contains:\n",
      "  J2 = 2.0\n",
      "I3 = 2.0 contains:\n",
      "  J2 = 2.0\n",
      "  J2 = 1.0\n",
      "I3 = 1.0 contains:\n",
      "  J2 = 2.0\n",
      "  J2 = 1.0\n",
      "  J2 = 0.0\n",
      "I3 = 0.0 contains:\n",
      "  J2 = 1.0\n",
      "\n",
      "Zero channel basis\n",
      "[[1.0, 0.0, -1.0], [1.0, -1.0, 0.0], [0.0, 1.0, -1.0], [0.0, 0.0, 0.0], [0.0, -1.0, 1.0], [-1.0, 1.0, 0.0], [-1.0, 0.0, 1.0]]\n",
      "\n",
      "Calligraphic C\n",
      "[[ 0.31622777+0.j  0.31622777+0.j  0.31622777+0.j  0.63245553+0.j\n",
      "   0.31622777+0.j  0.31622777+0.j  0.31622777+0.j]\n",
      " [ 0.5       +0.j  0.        +0.j  0.5       +0.j  0.        +0.j\n",
      "  -0.5       +0.j  0.        +0.j -0.5       +0.j]\n",
      " [ 0.28867513+0.j  0.57735027+0.j -0.28867513+0.j  0.        +0.j\n",
      "   0.28867513+0.j -0.57735027+0.j -0.28867513+0.j]\n",
      " [ 0.38729833+0.j -0.25819889+0.j  0.38729833+0.j -0.51639778+0.j\n",
      "   0.38729833+0.j -0.25819889+0.j  0.38729833+0.j]\n",
      " [ 0.5       +0.j  0.        +0.j -0.5       +0.j  0.        +0.j\n",
      "  -0.5       +0.j -0.        +0.j  0.5       -0.j]\n",
      " [ 0.        +0.j  0.57735027+0.j  0.        +0.j -0.57735027+0.j\n",
      "   0.        +0.j  0.57735027+0.j  0.        +0.j]\n",
      " [ 0.40824829+0.j -0.40824829+0.j -0.40824829+0.j -0.        +0.j\n",
      "   0.40824829+0.j  0.40824829-0.j -0.40824829+0.j]]\n",
      "\n",
      " Orthogonality check\n",
      "[[ 1.00000000e+00+0.j -9.95716912e-18+0.j -9.32238960e-17+0.j\n",
      "  -1.63881679e-17+0.j  1.48735047e-16+0.j -1.77984065e-17+0.j\n",
      "  -9.32238960e-17+0.j]\n",
      " [-9.95716912e-18+0.j  1.00000000e+00+0.j -1.77984065e-17+0.j\n",
      "   2.94613014e-18+0.j -9.95716912e-18+0.j  1.84331860e-16+0.j\n",
      "  -1.77984065e-17+0.j]\n",
      " [-9.32238960e-17+0.j -1.77984065e-17+0.j  1.00000000e+00+0.j\n",
      "  -1.63881679e-17+0.j -9.32238960e-17+0.j -9.95716912e-18+0.j\n",
      "   1.48735047e-16+0.j]\n",
      " [-1.63881679e-17+0.j  2.94613014e-18+0.j -1.63881679e-17+0.j\n",
      "   1.00000000e+00+0.j -1.63881679e-17+0.j  2.94613014e-18+0.j\n",
      "  -1.63881679e-17+0.j]\n",
      " [ 1.48735047e-16+0.j -9.95716912e-18+0.j -9.32238960e-17+0.j\n",
      "  -1.63881679e-17+0.j  1.00000000e+00+0.j -1.77984065e-17+0.j\n",
      "  -9.32238960e-17+0.j]\n",
      " [-1.77984065e-17+0.j  1.84331860e-16+0.j -9.95716912e-18+0.j\n",
      "   2.94613014e-18+0.j -1.77984065e-17+0.j  1.00000000e+00+0.j\n",
      "  -9.95716912e-18+0.j]\n",
      " [-9.32238960e-17+0.j -1.77984065e-17+0.j  1.48735047e-16+0.j\n",
      "  -1.63881679e-17+0.j -9.32238960e-17+0.j -9.95716912e-18+0.j\n",
      "   1.00000000e+00+0.j]]\n"
     ]
    }
   ],
   "source": [
    "ItestObj3=iso.TPIsospinComposite(1.0,1.0,1.0)\n",
    "print(\"\\n Shell list\")\n",
    "print(ItestObj3.Iset)\n",
    "print(ItestObj3.Ilist)\n",
    "print(\"\\n\")\n",
    "ItestObj3.print_Ishell_composition()\n",
    "print(\"\\nZero channel basis\")\n",
    "print(ItestObj3.TPIzerochannelbasis)\n",
    "#print(ItestObj3.Imax)\n",
    "print(\"\\nCalligraphic C\")\n",
    "ItestObj3.set_CaligraphicC()\n",
    "CalCObj3 = ItestObj3.CaligraphicC\n",
    "print(CalCObj3)\n",
    "print(\"\\n Orthogonality check\")\n",
    "print(np.dot(np.transpose(CalCObj3),CalCObj3))"
   ]
  },
  {
   "cell_type": "code",
   "execution_count": null,
   "id": "926ff8ea",
   "metadata": {},
   "outputs": [],
   "source": []
  }
 ],
 "metadata": {
  "kernelspec": {
   "display_name": "Python 3 (ipykernel)",
   "language": "python",
   "name": "python3"
  },
  "language_info": {
   "codemirror_mode": {
    "name": "ipython",
    "version": 3
   },
   "file_extension": ".py",
   "mimetype": "text/x-python",
   "name": "python",
   "nbconvert_exporter": "python",
   "pygments_lexer": "ipython3",
   "version": "3.8.9"
  }
 },
 "nbformat": 4,
 "nbformat_minor": 5
}
