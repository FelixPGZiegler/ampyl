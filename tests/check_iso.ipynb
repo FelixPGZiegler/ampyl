{
 "cells": [
  {
   "cell_type": "code",
   "execution_count": 1,
   "id": "104da254",
   "metadata": {},
   "outputs": [],
   "source": [
    "import numpy as np\n",
    "import sys\n",
    "lib_path = \"../../ampyl\"\n",
    "sys.path.append(lib_path + \"/ampyl\")\n",
    "sys.path.append(lib_path + \"/ampyl/isospin\")"
   ]
  },
  {
   "cell_type": "code",
   "execution_count": 2,
   "id": "38edae31",
   "metadata": {},
   "outputs": [],
   "source": [
    "import isospin as iso"
   ]
  },
  {
   "cell_type": "code",
   "execution_count": 3,
   "id": "8f24458d",
   "metadata": {},
   "outputs": [
    {
     "name": "stdout",
     "output_type": "stream",
     "text": [
      "[ 1.  0. -1.]\n"
     ]
    }
   ],
   "source": [
    "SpinObj = iso.SpinObj(1.0)\n",
    "print(SpinObj.mlist)\n",
    "Jobj = iso.IsospinComposite(2.0,1.0)"
   ]
  },
  {
   "cell_type": "code",
   "execution_count": 4,
   "id": "1ea75918",
   "metadata": {},
   "outputs": [
    {
     "name": "stdout",
     "output_type": "stream",
     "text": [
      "1.0\n",
      "3.0\n",
      "3\n",
      "[3.0, 2.0, 1.0]\n",
      "[[3.0, 2.0, 1.0, 0.0, -1.0, -2.0, -3.0], [2.0, 1.0, 0.0, -1.0, -2.0], [1.0, 0.0, -1.0]]\n"
     ]
    }
   ],
   "source": [
    "print(Jobj.jmin)\n",
    "print(Jobj.jmax)\n",
    "print(Jobj.nj)\n",
    "print(Jobj.jlist)\n",
    "print(Jobj.mlist)"
   ]
  },
  {
   "cell_type": "code",
   "execution_count": 5,
   "id": "f4179c73",
   "metadata": {},
   "outputs": [
    {
     "name": "stdout",
     "output_type": "stream",
     "text": [
      "[[2.0, 1.0], [2.0, 0.0], [2.0, -1.0], [1.0, 1.0], [1.0, 0.0], [1.0, -1.0], [0.0, 1.0], [0.0, 0.0], [0.0, -1.0], [-1.0, 1.0], [-1.0, 0.0], [-1.0, -1.0], [-2.0, 1.0], [-2.0, 0.0], [-2.0, -1.0]]\n"
     ]
    }
   ],
   "source": [
    "ucb = Jobj.get_uncoupled_basis()\n",
    "print(ucb)"
   ]
  },
  {
   "cell_type": "code",
   "execution_count": 6,
   "id": "af234beb",
   "metadata": {},
   "outputs": [
    {
     "name": "stdout",
     "output_type": "stream",
     "text": [
      "[[3.0, 2.0, 1.0], [[3.0, 2.0, 1.0, 0.0, -1.0, -2.0, -3.0], [2.0, 1.0, 0.0, -1.0, -2.0], [1.0, 0.0, -1.0]], [7, 5, 3]]\n"
     ]
    }
   ],
   "source": [
    "cb = Jobj.get_coupled_basis()\n",
    "print(cb)"
   ]
  },
  {
   "cell_type": "code",
   "execution_count": 7,
   "id": "ce4835ba",
   "metadata": {},
   "outputs": [],
   "source": [
    "#for i in range(0,len(cb[0])):\n",
    "#    for mJ in cb[1][i]:\n",
    "#        idx = Jobj.get_ucb_index(mJ)\n",
    "#        print(\"m = \" + str(mJ) + \", idx = \" + str(idx) + \",(m1,m2) building blocks = \" + str([ucb[elem] for elem in idx]))\n",
    "#    print(\"\\n\")"
   ]
  },
  {
   "cell_type": "code",
   "execution_count": 8,
   "id": "d437fd30",
   "metadata": {},
   "outputs": [
    {
     "name": "stdout",
     "output_type": "stream",
     "text": [
      "3\n"
     ]
    }
   ],
   "source": [
    "print(len(cb[0]))"
   ]
  },
  {
   "cell_type": "code",
   "execution_count": 9,
   "id": "c3335a23",
   "metadata": {},
   "outputs": [
    {
     "name": "stdout",
     "output_type": "stream",
     "text": [
      "Info on building blocks for coupled states --- column indices in the CG matrix.\n",
      "Set of J values = [3.0, 2.0, 1.0]\n",
      "\n",
      "m = 3.0, Index set = [0], (m1,m2) building blocks = [[2.0, 1.0]]\n",
      "m = 2.0, Index set = [1, 3], (m1,m2) building blocks = [[2.0, 0.0], [1.0, 1.0]]\n",
      "m = 1.0, Index set = [2, 4, 6], (m1,m2) building blocks = [[2.0, -1.0], [1.0, 0.0], [0.0, 1.0]]\n",
      "m = 0.0, Index set = [5, 7, 9], (m1,m2) building blocks = [[1.0, -1.0], [0.0, 0.0], [-1.0, 1.0]]\n",
      "m = -1.0, Index set = [8, 10, 12], (m1,m2) building blocks = [[0.0, -1.0], [-1.0, 0.0], [-2.0, 1.0]]\n",
      "m = -2.0, Index set = [11, 13], (m1,m2) building blocks = [[-1.0, -1.0], [-2.0, 0.0]]\n",
      "m = -3.0, Index set = [14], (m1,m2) building blocks = [[-2.0, -1.0]]\n",
      "\n",
      "\n",
      "m = 2.0, Index set = [1, 3], (m1,m2) building blocks = [[2.0, 0.0], [1.0, 1.0]]\n",
      "m = 1.0, Index set = [2, 4, 6], (m1,m2) building blocks = [[2.0, -1.0], [1.0, 0.0], [0.0, 1.0]]\n",
      "m = 0.0, Index set = [5, 7, 9], (m1,m2) building blocks = [[1.0, -1.0], [0.0, 0.0], [-1.0, 1.0]]\n",
      "m = -1.0, Index set = [8, 10, 12], (m1,m2) building blocks = [[0.0, -1.0], [-1.0, 0.0], [-2.0, 1.0]]\n",
      "m = -2.0, Index set = [11, 13], (m1,m2) building blocks = [[-1.0, -1.0], [-2.0, 0.0]]\n",
      "\n",
      "\n",
      "m = 1.0, Index set = [2, 4, 6], (m1,m2) building blocks = [[2.0, -1.0], [1.0, 0.0], [0.0, 1.0]]\n",
      "m = 0.0, Index set = [5, 7, 9], (m1,m2) building blocks = [[1.0, -1.0], [0.0, 0.0], [-1.0, 1.0]]\n",
      "m = -1.0, Index set = [8, 10, 12], (m1,m2) building blocks = [[0.0, -1.0], [-1.0, 0.0], [-2.0, 1.0]]\n",
      "\n",
      "\n"
     ]
    }
   ],
   "source": [
    "Jobj.get_cg_col_info()"
   ]
  },
  {
   "cell_type": "code",
   "execution_count": 10,
   "id": "e21bd4da",
   "metadata": {},
   "outputs": [
    {
     "name": "stdout",
     "output_type": "stream",
     "text": [
      "Jval = 3.0\n",
      "0\n",
      "1\n",
      "2\n",
      "3\n",
      "4\n",
      "5\n",
      "6\n",
      "Jval = 2.0\n",
      "7\n",
      "8\n",
      "9\n",
      "10\n",
      "11\n",
      "Jval = 1.0\n",
      "12\n",
      "13\n",
      "14\n"
     ]
    }
   ],
   "source": [
    "for Jval in cb[0]:\n",
    "    print(\"Jval = \" + str(Jval))\n",
    "    im = cb[0].index(Jval)\n",
    "    for m in cb[1][im]:\n",
    "        rowidx = Jobj.get_cg_row_index(Jval,m)\n",
    "        print(rowidx)"
   ]
  },
  {
   "cell_type": "code",
   "execution_count": 11,
   "id": "8654441a",
   "metadata": {},
   "outputs": [
    {
     "name": "stdout",
     "output_type": "stream",
     "text": [
      "[[1.0, 1.0, 1.0], [1.0, 1.0, 0.0], [1.0, 1.0, -1.0], [1.0, 0.0, 1.0], [1.0, 0.0, 0.0], [1.0, 0.0, -1.0], [1.0, -1.0, 1.0], [1.0, -1.0, 0.0], [1.0, -1.0, -1.0], [0.0, 1.0, 1.0], [0.0, 1.0, 0.0], [0.0, 1.0, -1.0], [0.0, 0.0, 1.0], [0.0, 0.0, 0.0], [0.0, 0.0, -1.0], [0.0, -1.0, 1.0], [0.0, -1.0, 0.0], [0.0, -1.0, -1.0], [-1.0, 1.0, 1.0], [-1.0, 1.0, 0.0], [-1.0, 1.0, -1.0], [-1.0, 0.0, 1.0], [-1.0, 0.0, 0.0], [-1.0, 0.0, -1.0], [-1.0, -1.0, 1.0], [-1.0, -1.0, 0.0], [-1.0, -1.0, -1.0]]\n",
      "[[1.0, 0.0, -1.0], [1.0, -1.0, 0.0], [0.0, 1.0, -1.0], [0.0, 0.0, 0.0], [0.0, -1.0, 1.0], [-1.0, 1.0, 0.0], [-1.0, 0.0, 1.0]]\n",
      "[3.0, 2.0, 1.0, 0.0]\n",
      "[[3.0, 2.0, 1.0], [2.0, 1.0, 0.0], [1.0]]\n",
      "[2.0, 1.0, 0.0]\n",
      "[[[0, 0]], [[0, 1], [1, 0]], [[0, 2], [1, 1], [2, 0]], [[1, 2]]]\n",
      "[[2.0], [2.0, 1.0], [2.0, 1.0, 0.0], [1.0]]\n"
     ]
    }
   ],
   "source": [
    "Iobj = iso.TPIsospinComposite()\n",
    "print(Iobj.TPuncoupledbasis)\n",
    "print(Iobj.TPIzerochannelbasis)\n",
    "print(Iobj.Ilist)\n",
    "print(Iobj.Ishelllist)\n",
    "x,y = Iobj.get_Ishell_ancestors()\n",
    "print(Iobj.Dimer.jlist)\n",
    "print(x)\n",
    "print(y)"
   ]
  },
  {
   "cell_type": "code",
   "execution_count": 12,
   "id": "ff37b71f",
   "metadata": {},
   "outputs": [
    {
     "name": "stdout",
     "output_type": "stream",
     "text": [
      "Total isospin in descending order:\n",
      "\n",
      "I3 = 3.0 contains:\n",
      "  J2 = 2.0\n",
      "I3 = 2.0 contains:\n",
      "  J2 = 2.0\n",
      "  J2 = 1.0\n",
      "I3 = 1.0 contains:\n",
      "  J2 = 2.0\n",
      "  J2 = 1.0\n",
      "  J2 = 0.0\n",
      "I3 = 0.0 contains:\n",
      "  J2 = 1.0\n"
     ]
    }
   ],
   "source": [
    "Iobj.print_Ishell_composition()"
   ]
  },
  {
   "cell_type": "code",
   "execution_count": 13,
   "id": "6ce28104",
   "metadata": {},
   "outputs": [
    {
     "name": "stdout",
     "output_type": "stream",
     "text": [
      "[<isospin.IsospinComposite object at 0x7f5e903cb9d0>, <isospin.IsospinComposite object at 0x7f5e903cba00>, <isospin.IsospinComposite object at 0x7f5e903cba60>]\n"
     ]
    }
   ],
   "source": [
    "print(Iobj.DimerSpectatorList)"
   ]
  },
  {
   "cell_type": "markdown",
   "id": "38a1a78c",
   "metadata": {},
   "source": [
    "## Caligraphic C ingredients"
   ]
  },
  {
   "cell_type": "code",
   "execution_count": 14,
   "id": "b99d3aaa",
   "metadata": {},
   "outputs": [
    {
     "name": "stdout",
     "output_type": "stream",
     "text": [
      "[[[0, 0]], [[0, 1], [1, 0]], [[0, 2], [1, 1], [2, 0]], [[1, 2]]]\n",
      "[[2.0], [2.0, 1.0], [2.0, 1.0, 0.0], [1.0]]\n",
      "[3.0, 2.0, 1.0, 0.0]\n",
      "[[3.0, 2.0, 1.0], [2.0, 1.0, 0.0], [1.0]]\n"
     ]
    }
   ],
   "source": [
    "print(x)\n",
    "print(y)\n",
    "print(Iobj.Ilist)\n",
    "print(Iobj.Iset)"
   ]
  },
  {
   "cell_type": "code",
   "execution_count": 59,
   "id": "e11e4495",
   "metadata": {},
   "outputs": [],
   "source": [
    "prodOneOne = np.zeros((9,9),dtype = np.complex128)\n",
    "prodTwoOne = np.zeros((15,15),dtype = np.complex128)\n",
    "# J = 2, mJ = 2\n",
    "prodOneOne[0][0] = 1.0\n",
    "\n",
    "# J = 2, mJ = 1\n",
    "prodOneOne[1][1] = 1.0 / np.sqrt(2.0)\n",
    "prodOneOne[1][3] = 1.0 / np.sqrt(2.0)\n",
    "\n",
    "# J = 2, mJ = 0\n",
    "prodOneOne[2][2] = 1.0 / np.sqrt(6.0)\n",
    "prodOneOne[2][4] = np.sqrt(2.0/3.0)\n",
    "prodOneOne[2][6] = 1.0 / np.sqrt(6.0)\n",
    "\n",
    "# J = 2, mJ = -1\n",
    "\n",
    "prodOneOne[3][5] = 1.0 / np.sqrt(2.0)\n",
    "prodOneOne[3][7] = 1.0 / np.sqrt(2.0)\n",
    "\n",
    "# J = 2, mJ = -2\n",
    "prodOneOne[4][8] = 1.0\n",
    "\n",
    "# J = 1, mJ = 1\n",
    "prodOneOne[5][1] = 1.0 / np.sqrt(2.0)\n",
    "prodOneOne[5][3] = -1.0 / np.sqrt(2.0)\n",
    "\n",
    "# J = 1, mJ = 0\n",
    "prodOneOne[6][2] = 1.0 / np.sqrt(2.0)\n",
    "prodOneOne[6][6] = -1.0 / np.sqrt(2.0)\n",
    "\n",
    "# J = 1, mJ = -1\n",
    "prodOneOne[7][5] = 1.0 / np.sqrt(2.0)\n",
    "prodOneOne[7][7] = -1.0 / np.sqrt(2.0)\n",
    "\n",
    "# J = 0, mJ = 0\n",
    "prodOneOne[8][2] = 1.0 / np.sqrt(3.0)\n",
    "prodOneOne[8][4] = -1.0 / np.sqrt(3.0)\n",
    "prodOneOne[8][6] = 1.0 / np.sqrt(3.0)"
   ]
  },
  {
   "cell_type": "code",
   "execution_count": 60,
   "id": "ef57bd74",
   "metadata": {},
   "outputs": [],
   "source": [
    "# (++,+) (++,0) (++,-) (+,+) (+,0) (+,-) (0,+) (0,0) (0,-) (-,+) (-,0) (-,-) (--,+) (--,0) (--,-)\n",
    "\n",
    "# J = 3 mJ = 3\n",
    "# (++,+)\n",
    "prodTwoOne[0][0] = 1.0\n",
    "\n",
    "# J = 3 mJ = 2\n",
    "# (++,0) (+,+)\n",
    "prodTwoOne[1][1] = 1.0/np.sqrt(3.0)\n",
    "prodTwoOne[1][3] = np.sqrt(2.0/3.0)\n",
    "\n",
    "# J = 3 mJ = 1\n",
    "# (++,-) (+,0) (0,+) \n",
    "prodTwoOne[2][2] = 1.0/np.sqrt(15.0)\n",
    "prodTwoOne[2][4] = np.sqrt(8.0/15.0)\n",
    "prodTwoOne[2][6] = np.sqrt(2.0/5.0)\n",
    "\n",
    "# J = 3 mJ = 0\n",
    "# (+,-) (0,0) (-,+)\n",
    "prodTwoOne[3][5] = 1.0/np.sqrt(5.0)\n",
    "prodTwoOne[3][7] = np.sqrt(3.0/5.0)\n",
    "prodTwoOne[3][9] = 1.0/np.sqrt(5.0)\n",
    "\n",
    "# J = 3 mJ = -1\n",
    "# (0,-) (-,0) (--,+)\n",
    "prodTwoOne[4][8] = np.sqrt(2.0/5.0)\n",
    "prodTwoOne[4][10] = np.sqrt(8.0/15.0)\n",
    "prodTwoOne[4][12] = 1.0/np.sqrt(15.0)\n",
    "\n",
    "# J = 3 mJ = -2\n",
    "# (-,-) (--,0)\n",
    "prodTwoOne[5][11] = np.sqrt(2.0/3.0)\n",
    "prodTwoOne[5][13] = 1.0/np.sqrt(3.0)\n",
    "\n",
    "# J = 3 mJ = -3\n",
    "# (--,-)\n",
    "prodTwoOne[6][14] = 1.0\n",
    "\n",
    "# J = 2 mJ = 2\n",
    "# (++,0) (+,+)\n",
    "prodTwoOne[7][1] = np.sqrt(2.0/3.0)\n",
    "prodTwoOne[7][3] = -1.0/np.sqrt(3.0)\n",
    "\n",
    "# J = 2 mJ = 1\n",
    "# (++,-) (+,0) (0,+) \n",
    "prodTwoOne[8][2] = 1.0/np.sqrt(3.0)\n",
    "prodTwoOne[8][4] = 1.0/np.sqrt(6.0)\n",
    "prodTwoOne[8][6] = -1.0/np.sqrt(2.0)\n",
    "\n",
    "# J = 2 mJ = 0\n",
    "# (+,-) (0,0) (-,+)\n",
    "prodTwoOne[9][5] = 1.0/np.sqrt(2.0)\n",
    "prodTwoOne[9][9] = -1.0/np.sqrt(2.0)\n",
    "\n",
    "# J = 2 mJ = -1\n",
    "# (0,-) (-,0) (--,+)\n",
    "prodTwoOne[10][8]  = 1.0/np.sqrt(2.0)\n",
    "prodTwoOne[10][10] = -1.0/np.sqrt(6.0)\n",
    "prodTwoOne[10][12] = -1.0/np.sqrt(3.0)\n",
    "\n",
    "# J = 2 mJ = -2\n",
    "# (-,-) (--,0)\n",
    "prodTwoOne[11][11] = 1.0/np.sqrt(3.0)\n",
    "prodTwoOne[11][13] = -np.sqrt(2.0/3.0)\n",
    "\n",
    "# J = 1 mJ = 1\n",
    "# (++,-) (+,0) (0,+) \n",
    "prodTwoOne[12][2] = np.sqrt(3.0/5.0)\n",
    "prodTwoOne[12][4] = -np.sqrt(3.0/10.0)\n",
    "prodTwoOne[12][6] = 1.0/np.sqrt(10.0)\n",
    "\n",
    "# J = 1 mJ = 0\n",
    "# (+,-) (0,0) (-,+)\n",
    "prodTwoOne[13][5] = np.sqrt(3.0/10.0)\n",
    "prodTwoOne[13][7] = -np.sqrt(2.0/5.0)\n",
    "prodTwoOne[13][9] = np.sqrt(3.0/10.0)\n",
    "\n",
    "# J = 1 mJ = -1\n",
    "# (0,-) (-,0) (--,+)\n",
    "prodTwoOne[14][8]  = 1.0/np.sqrt(10.0)\n",
    "prodTwoOne[14][10] = -np.sqrt(3.0/10.0)\n",
    "prodTwoOne[14][12] = np.sqrt(3.0/5.0)"
   ]
  },
  {
   "cell_type": "code",
   "execution_count": 61,
   "id": "4c92386f",
   "metadata": {},
   "outputs": [
    {
     "name": "stdout",
     "output_type": "stream",
     "text": [
      "[2.0, 1.0, 0.0]\n",
      "[[1.0, 1.0], [1.0, 0.0], [1.0, -1.0], [0.0, 1.0], [0.0, 0.0], [0.0, -1.0], [-1.0, 1.0], [-1.0, 0.0], [-1.0, -1.0]]\n",
      "1\n",
      "Ival = 3.0, jlist = [2.0]\n",
      "j = 2.0, cg_row_index = 3, cg_col_index_list = [5, 7, 9]\n",
      "***\n",
      "[1.0, -1.0]\n",
      "m = 1.0, icg_row_index = 1, icg_col_index_list = [1, 3]\n",
      "element in ucoupled basis = [1.0, 0.0, -1.0]\n",
      "element in ucoupled basis = [0.0, 1.0, -1.0]\n",
      "[0.0, 0.0]\n",
      "m = 0.0, icg_row_index = 2, icg_col_index_list = [2, 4, 6]\n",
      "element in ucoupled basis = [1.0, -1.0, 0.0]\n",
      "element in ucoupled basis = [0.0, 0.0, 0.0]\n",
      "element in ucoupled basis = [-1.0, 1.0, 0.0]\n",
      "[-1.0, 1.0]\n",
      "m = -1.0, icg_row_index = 3, icg_col_index_list = [5, 7]\n",
      "element in ucoupled basis = [0.0, -1.0, 1.0]\n",
      "element in ucoupled basis = [-1.0, 0.0, 1.0]\n",
      "***\n",
      "[(0.3162277660168379+0j), (0.3162277660168379+0j), (0.316227766016838+0j), (0.6324555320336759+0j), (0.316227766016838+0j), (0.3162277660168379+0j), (0.3162277660168379+0j)]\n",
      "Ival = 2.0, jlist = [2.0, 1.0]\n",
      "j = 2.0, cg_row_index = 9, cg_col_index_list = [5, 7, 9]\n",
      "***\n",
      "[1.0, -1.0]\n",
      "m = 1.0, icg_row_index = 1, icg_col_index_list = [1, 3]\n",
      "element in ucoupled basis = [1.0, 0.0, -1.0]\n",
      "element in ucoupled basis = [0.0, 1.0, -1.0]\n",
      "[0.0, 0.0]\n",
      "m = 0.0, icg_row_index = 2, icg_col_index_list = [2, 4, 6]\n",
      "element in ucoupled basis = [1.0, -1.0, 0.0]\n",
      "element in ucoupled basis = [0.0, 0.0, 0.0]\n",
      "element in ucoupled basis = [-1.0, 1.0, 0.0]\n",
      "[-1.0, 1.0]\n",
      "m = -1.0, icg_row_index = 3, icg_col_index_list = [5, 7]\n",
      "element in ucoupled basis = [0.0, -1.0, 1.0]\n",
      "element in ucoupled basis = [-1.0, 0.0, 1.0]\n",
      "***\n",
      "[(0.4999999999999999+0j), (0.4999999999999999+0j), 0j, 0j, 0j, (-0.4999999999999999+0j), (-0.4999999999999999+0j)]\n",
      "j = 1.0, cg_row_index = 2, cg_col_index_list = [2, 4, 6]\n",
      "***\n",
      "[1.0, -1.0]\n",
      "m = 1.0, icg_row_index = 5, icg_col_index_list = [1, 3]\n",
      "element in ucoupled basis = [1.0, 0.0, -1.0]\n",
      "element in ucoupled basis = [0.0, 1.0, -1.0]\n",
      "[0.0, 0.0]\n",
      "m = 0.0, icg_row_index = 6, icg_col_index_list = [2, 4, 6]\n",
      "element in ucoupled basis = [1.0, -1.0, 0.0]\n",
      "element in ucoupled basis = [0.0, 0.0, 0.0]\n",
      "element in ucoupled basis = [-1.0, 1.0, 0.0]\n",
      "[-1.0, 1.0]\n",
      "m = -1.0, icg_row_index = 7, icg_col_index_list = [5, 7]\n",
      "element in ucoupled basis = [0.0, -1.0, 1.0]\n",
      "element in ucoupled basis = [-1.0, 0.0, 1.0]\n",
      "***\n",
      "[(0.2886751345948129+0j), (-0.2886751345948129+0j), (0.5773502691896257+0j), 0j, (-0.5773502691896257+0j), (0.2886751345948129+0j), (-0.2886751345948129+0j)]\n",
      "Ival = 1.0, jlist = [2.0, 1.0, 0.0]\n",
      "j = 2.0, cg_row_index = 13, cg_col_index_list = [5, 7, 9]\n",
      "***\n",
      "[1.0, -1.0]\n",
      "m = 1.0, icg_row_index = 1, icg_col_index_list = [1, 3]\n",
      "element in ucoupled basis = [1.0, 0.0, -1.0]\n",
      "element in ucoupled basis = [0.0, 1.0, -1.0]\n",
      "[0.0, 0.0]\n",
      "m = 0.0, icg_row_index = 2, icg_col_index_list = [2, 4, 6]\n",
      "element in ucoupled basis = [1.0, -1.0, 0.0]\n",
      "element in ucoupled basis = [0.0, 0.0, 0.0]\n",
      "element in ucoupled basis = [-1.0, 1.0, 0.0]\n",
      "[-1.0, 1.0]\n",
      "m = -1.0, icg_row_index = 3, icg_col_index_list = [5, 7]\n",
      "element in ucoupled basis = [0.0, -1.0, 1.0]\n",
      "element in ucoupled basis = [-1.0, 0.0, 1.0]\n",
      "***\n",
      "[(0.38729833462074165+0j), (0.38729833462074165+0j), (-0.25819888974716115+0j), (-0.5163977794943223+0j), (-0.25819888974716115+0j), (0.38729833462074165+0j), (0.38729833462074165+0j)]\n",
      "j = 1.0, cg_row_index = 6, cg_col_index_list = [2, 4, 6]\n",
      "***\n",
      "[1.0, -1.0]\n",
      "m = 1.0, icg_row_index = 5, icg_col_index_list = [1, 3]\n",
      "element in ucoupled basis = [1.0, 0.0, -1.0]\n",
      "element in ucoupled basis = [0.0, 1.0, -1.0]\n",
      "[0.0, 0.0]\n",
      "m = 0.0, icg_row_index = 6, icg_col_index_list = [2, 4, 6]\n",
      "element in ucoupled basis = [1.0, -1.0, 0.0]\n",
      "element in ucoupled basis = [0.0, 0.0, 0.0]\n",
      "element in ucoupled basis = [-1.0, 1.0, 0.0]\n",
      "[-1.0, 1.0]\n",
      "m = -1.0, icg_row_index = 7, icg_col_index_list = [5, 7]\n",
      "element in ucoupled basis = [0.0, -1.0, 1.0]\n",
      "element in ucoupled basis = [-1.0, 0.0, 1.0]\n",
      "***\n",
      "[(0.4999999999999999+0j), (-0.4999999999999999+0j), 0j, 0j, (-0+0j), (-0.4999999999999999+0j), (0.4999999999999999-0j)]\n",
      "j = 0.0, cg_row_index = 1, cg_col_index_list = [1]\n",
      "***\n",
      "[0.0, 0.0]\n",
      "m = 0.0, icg_row_index = 8, icg_col_index_list = [2, 4, 6]\n",
      "element in ucoupled basis = [1.0, -1.0, 0.0]\n",
      "element in ucoupled basis = [0.0, 0.0, 0.0]\n",
      "element in ucoupled basis = [-1.0, 1.0, 0.0]\n",
      "***\n",
      "[(0.5773502691896258+0j), (-0.5773502691896258+0j), (0.5773502691896258+0j)]\n",
      "Ival = 0.0, jlist = [1.0]\n",
      "j = 1.0, cg_row_index = 8, cg_col_index_list = [2, 4, 6]\n",
      "***\n",
      "[1.0, -1.0]\n",
      "m = 1.0, icg_row_index = 5, icg_col_index_list = [1, 3]\n",
      "element in ucoupled basis = [1.0, 0.0, -1.0]\n",
      "element in ucoupled basis = [0.0, 1.0, -1.0]\n",
      "[0.0, 0.0]\n",
      "m = 0.0, icg_row_index = 6, icg_col_index_list = [2, 4, 6]\n",
      "element in ucoupled basis = [1.0, -1.0, 0.0]\n",
      "element in ucoupled basis = [0.0, 0.0, 0.0]\n",
      "element in ucoupled basis = [-1.0, 1.0, 0.0]\n",
      "[-1.0, 1.0]\n",
      "m = -1.0, icg_row_index = 7, icg_col_index_list = [5, 7]\n",
      "element in ucoupled basis = [0.0, -1.0, 1.0]\n",
      "element in ucoupled basis = [-1.0, 0.0, 1.0]\n",
      "***\n",
      "[(0.408248290463863+0j), (-0.408248290463863+0j), (-0.408248290463863+0j), (-0+0j), (0.408248290463863-0j), (0.408248290463863+0j), (-0.408248290463863+0j)]\n"
     ]
    }
   ],
   "source": [
    "j3 = 1.0\n",
    "#for Ival in Iobj.Ilist:\n",
    "#    jlist = y[Iobj.Ilist.index(Ival)]\n",
    "#    print(\"Ival = \" + str(Ival) + \", jlist = \" + str(jlist))\n",
    "#    for j in jlist:\n",
    "#        # outer pair\n",
    "#        outerObj = iso.IsospinComposite(j,j3)\n",
    "#        outerObj.get_cg_col_info()\n",
    "#    print(\"*** *** ***\\n\")\n",
    "\n",
    "#print(\"But we only want the info for j.\\n\")\n",
    "j1=1.0\n",
    "j2=1.0\n",
    "innerObj = iso.IsospinComposite(j1,j2)\n",
    "print(innerObj.jlist)\n",
    "iucb = innerObj.get_uncoupled_basis()\n",
    "print(iucb)\n",
    "icg_row_index = innerObj.get_cg_row_index(2.0,1.0)\n",
    "print(icg_row_index)\n",
    "\n",
    "CaligraphicC = []\n",
    "calc_row_counter = 0\n",
    "for Ival in Iobj.Ilist:\n",
    "    jlist = y[Iobj.Ilist.index(Ival)]\n",
    "    print(\"Ival = \" + str(Ival) + \", jlist = \" + str(jlist))\n",
    "    for j in jlist:\n",
    "        tmpcg = []\n",
    "        outerObj = iso.IsospinComposite(j,j3)\n",
    "        #cb = outerObj.get_coupled_basis()\n",
    "        #print(cb)\n",
    "        cg_row_index = outerObj.get_cg_row_index(Ival,0.0)\n",
    "        cg_col_index_list = outerObj.get_ucb_index(0.0)\n",
    "        ucb = outerObj.get_uncoupled_basis()\n",
    "        print(\"j = \" + str(j) + \", cg_row_index = \" + str(cg_row_index) + \", cg_col_index_list = \" + str(cg_col_index_list))\n",
    "        print(\"***\")\n",
    "        for im in cg_col_index_list:\n",
    "            print(ucb[im])\n",
    "            m = ucb[im][0]\n",
    "            icg_row_index = innerObj.get_cg_row_index(j,m)\n",
    "            icg_col_index_list = innerObj.get_ucb_index(m)\n",
    "            print(\"m = \" + str(m) + \", icg_row_index = \" + str(icg_row_index) + \", icg_col_index_list = \" + str(icg_col_index_list))\n",
    "            for iidx in icg_col_index_list:\n",
    "                    tpucbelem = [iucb[iidx][0],iucb[iidx][1],ucb[im][1]]\n",
    "                    calc_col_index = Iobj.TPIzerochannelbasis.index(tpucbelem)\n",
    "                    print(\"element in ucoupled basis = \" + str(tpucbelem))\n",
    "                    if (j == 2.0):\n",
    "                        f1 = prodTwoOne[cg_row_index,im]\n",
    "                        f2 = prodOneOne[icg_row_index,iidx]\n",
    "                    else:\n",
    "                        if(j == 1.0):\n",
    "                            f1 = prodOneOne[cg_row_index,im]\n",
    "                            f2 = prodOneOne[icg_row_index,iidx]\n",
    "                        else: \n",
    "                            if(j == 0.0):\n",
    "                                f1 = 1.0\n",
    "                                f2 = prodOneOne[icg_row_index,iidx]\n",
    "                    tmpcg.append(f1*f2)\n",
    "                    Iobj.CaligraphicC[calc_row_counter,calc_col_index] = f1 * f2\n",
    "        CaligraphicC.append(tmpcg)\n",
    "        print(\"***\")\n",
    "        print(tmpcg)\n",
    "        calc_row_counter+=1"
   ]
  },
  {
   "cell_type": "code",
   "execution_count": 62,
   "id": "c90602e8",
   "metadata": {},
   "outputs": [
    {
     "name": "stdout",
     "output_type": "stream",
     "text": [
      "3\n"
     ]
    }
   ],
   "source": [
    "outerObj = iso.IsospinComposite(2.0,1.0)\n",
    "cg_row_index = outerObj.get_cg_row_index(3.0,0.0)\n",
    "print(cg_row_index)"
   ]
  },
  {
   "cell_type": "code",
   "execution_count": 63,
   "id": "4c7094a4",
   "metadata": {},
   "outputs": [
    {
     "name": "stdout",
     "output_type": "stream",
     "text": [
      "[(0.408248290463863+0j), (-0.408248290463863+0j), (-0.408248290463863+0j), (-0+0j), (0.408248290463863-0j), (0.408248290463863+0j), (-0.408248290463863+0j)]\n"
     ]
    }
   ],
   "source": [
    "print(CaligraphicC[6])\n",
    "#CalC=np.array(CaligraphicC)\n",
    "#print(CalC)"
   ]
  },
  {
   "cell_type": "code",
   "execution_count": 64,
   "id": "2fa99906",
   "metadata": {},
   "outputs": [
    {
     "name": "stdout",
     "output_type": "stream",
     "text": [
      "[[3.0, 2.0, 1.0], [2.0, 1.0, 0.0], [1.0]]\n"
     ]
    }
   ],
   "source": [
    "print(Iobj.Iset)"
   ]
  },
  {
   "cell_type": "code",
   "execution_count": 65,
   "id": "3b1537f1",
   "metadata": {},
   "outputs": [],
   "source": [
    "# Not in the right order yet and got only non-zero ones"
   ]
  },
  {
   "cell_type": "code",
   "execution_count": 66,
   "id": "f4f6ebff",
   "metadata": {},
   "outputs": [
    {
     "name": "stdout",
     "output_type": "stream",
     "text": [
      "[[1.0, 0.0, -1.0], [1.0, -1.0, 0.0], [0.0, 1.0, -1.0], [0.0, 0.0, 0.0], [0.0, -1.0, 1.0], [-1.0, 1.0, 0.0], [-1.0, 0.0, 1.0]]\n"
     ]
    }
   ],
   "source": [
    "print(Iobj.TPIzerochannelbasis)"
   ]
  },
  {
   "cell_type": "code",
   "execution_count": 67,
   "id": "a34f41ec",
   "metadata": {},
   "outputs": [
    {
     "name": "stdout",
     "output_type": "stream",
     "text": [
      "1\n"
     ]
    }
   ],
   "source": [
    "tmp = [1.0,-1.0,0.0]\n",
    "print(Iobj.TPIzerochannelbasis.index(tmp))"
   ]
  },
  {
   "cell_type": "code",
   "execution_count": 68,
   "id": "b47e20b0",
   "metadata": {},
   "outputs": [
    {
     "name": "stdout",
     "output_type": "stream",
     "text": [
      "[[ 0.31622777+0.j  0.31622777+0.j  0.31622777+0.j  0.63245553+0.j\n",
      "   0.31622777+0.j  0.31622777+0.j  0.31622777+0.j]\n",
      " [ 0.5       +0.j  0.        +0.j  0.5       +0.j  0.        +0.j\n",
      "  -0.5       +0.j  0.        +0.j -0.5       +0.j]\n",
      " [ 0.28867513+0.j  0.57735027+0.j -0.28867513+0.j  0.        +0.j\n",
      "   0.28867513+0.j -0.57735027+0.j -0.28867513+0.j]\n",
      " [ 0.38729833+0.j -0.25819889+0.j  0.38729833+0.j -0.51639778+0.j\n",
      "   0.38729833+0.j -0.25819889+0.j  0.38729833+0.j]\n",
      " [ 0.5       +0.j  0.        +0.j -0.5       +0.j  0.        +0.j\n",
      "  -0.5       +0.j -0.        +0.j  0.5       -0.j]\n",
      " [ 0.        +0.j  0.57735027+0.j  0.        +0.j -0.57735027+0.j\n",
      "   0.        +0.j  0.57735027+0.j  0.        +0.j]\n",
      " [ 0.40824829+0.j -0.40824829+0.j -0.40824829+0.j -0.        +0.j\n",
      "   0.40824829+0.j  0.40824829-0.j -0.40824829+0.j]]\n"
     ]
    }
   ],
   "source": [
    "print(Iobj.CaligraphicC)"
   ]
  },
  {
   "cell_type": "code",
   "execution_count": 71,
   "id": "d2dc6626",
   "metadata": {},
   "outputs": [
    {
     "name": "stdout",
     "output_type": "stream",
     "text": [
      "[[ 1.00000000e+00+0.j -9.95716912e-18+0.j -9.32238960e-17+0.j\n",
      "  -1.63881679e-17+0.j  1.48735047e-16+0.j -1.77984065e-17+0.j\n",
      "  -9.32238960e-17+0.j]\n",
      " [-9.95716912e-18+0.j  1.00000000e+00+0.j -1.77984065e-17+0.j\n",
      "   2.94613014e-18+0.j -9.95716912e-18+0.j  1.84331860e-16+0.j\n",
      "  -1.77984065e-17+0.j]\n",
      " [-9.32238960e-17+0.j -1.77984065e-17+0.j  1.00000000e+00+0.j\n",
      "  -1.63881679e-17+0.j -9.32238960e-17+0.j -9.95716912e-18+0.j\n",
      "   1.48735047e-16+0.j]\n",
      " [-1.63881679e-17+0.j  2.94613014e-18+0.j -1.63881679e-17+0.j\n",
      "   1.00000000e+00+0.j -1.63881679e-17+0.j  2.94613014e-18+0.j\n",
      "  -1.63881679e-17+0.j]\n",
      " [ 1.48735047e-16+0.j -9.95716912e-18+0.j -9.32238960e-17+0.j\n",
      "  -1.63881679e-17+0.j  1.00000000e+00+0.j -1.77984065e-17+0.j\n",
      "  -9.32238960e-17+0.j]\n",
      " [-1.77984065e-17+0.j  1.84331860e-16+0.j -9.95716912e-18+0.j\n",
      "   2.94613014e-18+0.j -1.77984065e-17+0.j  1.00000000e+00+0.j\n",
      "  -9.95716912e-18+0.j]\n",
      " [-9.32238960e-17+0.j -1.77984065e-17+0.j  1.48735047e-16+0.j\n",
      "  -1.63881679e-17+0.j -9.32238960e-17+0.j -9.95716912e-18+0.j\n",
      "   1.00000000e+00+0.j]]\n",
      "(0.9999999999999994+0j)\n"
     ]
    }
   ],
   "source": [
    "X = Iobj.CaligraphicC\n",
    "print(np.dot(np.transpose(X),X))\n",
    "print(np.linalg.det(X))"
   ]
  },
  {
   "cell_type": "code",
   "execution_count": 44,
   "id": "133151e2",
   "metadata": {},
   "outputs": [],
   "source": [
    "# Check the Clebsch-Gordans"
   ]
  },
  {
   "cell_type": "code",
   "execution_count": 58,
   "id": "9e0794d3",
   "metadata": {},
   "outputs": [
    {
     "name": "stdout",
     "output_type": "stream",
     "text": [
      "[[ 1.        +0.j  0.        +0.j  0.        +0.j  0.        +0.j\n",
      "   0.        +0.j  0.        +0.j  0.        +0.j  0.        +0.j\n",
      "   0.        +0.j]\n",
      " [ 0.        +0.j  0.70710678+0.j  0.        +0.j  0.70710678+0.j\n",
      "   0.        +0.j  0.        +0.j  0.        +0.j  0.        +0.j\n",
      "   0.        +0.j]\n",
      " [ 0.        +0.j  0.        +0.j  0.40824829+0.j  0.        +0.j\n",
      "   0.81649658+0.j  0.        +0.j  0.40824829+0.j  0.        +0.j\n",
      "   0.        +0.j]\n",
      " [ 0.        +0.j  0.        +0.j  0.        +0.j  0.        +0.j\n",
      "   0.        +0.j  0.70710678+0.j  0.        +0.j  0.70710678+0.j\n",
      "   0.        +0.j]\n",
      " [ 0.        +0.j  0.        +0.j  0.        +0.j  0.        +0.j\n",
      "   0.        +0.j  0.        +0.j  0.        +0.j  0.        +0.j\n",
      "   1.        +0.j]\n",
      " [ 0.        +0.j  0.70710678+0.j  0.        +0.j -0.70710678+0.j\n",
      "   0.        +0.j  0.        +0.j  0.        +0.j  0.        +0.j\n",
      "   0.        +0.j]\n",
      " [ 0.        +0.j  0.        +0.j  0.70710678+0.j  0.        +0.j\n",
      "   0.        +0.j  0.        +0.j  0.70710678+0.j  0.        +0.j\n",
      "   0.        +0.j]\n",
      " [ 0.        +0.j  0.        +0.j  0.        +0.j  0.        +0.j\n",
      "   0.        +0.j  0.70710678+0.j  0.        +0.j -0.70710678+0.j\n",
      "   0.        +0.j]\n",
      " [ 0.        +0.j  0.        +0.j  0.57735027+0.j  0.        +0.j\n",
      "  -0.57735027+0.j  0.        +0.j  0.57735027+0.j  0.        +0.j\n",
      "   0.        +0.j]]\n"
     ]
    }
   ],
   "source": [
    "print(prodOneOne)"
   ]
  },
  {
   "cell_type": "code",
   "execution_count": 30,
   "id": "f48c035f",
   "metadata": {},
   "outputs": [
    {
     "name": "stdout",
     "output_type": "stream",
     "text": [
      "[0.        +0.j 0.        +0.j 0.        +0.j 0.        +0.j\n",
      " 0.        +0.j 0.4472136 +0.j 0.        +0.j 0.77459667+0.j\n",
      " 0.        +0.j 0.4472136 +0.j 0.        +0.j 0.        +0.j\n",
      " 0.        +0.j 0.        +0.j 0.        +0.j]\n"
     ]
    }
   ],
   "source": [
    "print(prodTwoOne[3])"
   ]
  },
  {
   "cell_type": "code",
   "execution_count": 31,
   "id": "e63da1a4",
   "metadata": {},
   "outputs": [
    {
     "name": "stdout",
     "output_type": "stream",
     "text": [
      "[ 0.        +0.j  0.        +0.j  0.        +0.j  0.        +0.j\n",
      "  0.        +0.j  0.70710678+0.j  0.        +0.j  0.        +0.j\n",
      "  0.        +0.j -0.70710678+0.j  0.        +0.j  0.        +0.j\n",
      "  0.        +0.j  0.        +0.j  0.        +0.j]\n"
     ]
    }
   ],
   "source": [
    "print(prodTwoOne[9])"
   ]
  },
  {
   "cell_type": "code",
   "execution_count": 32,
   "id": "def77aea",
   "metadata": {},
   "outputs": [
    {
     "name": "stdout",
     "output_type": "stream",
     "text": [
      "[ 0.        +0.j  0.        +0.j  0.        +0.j  0.        +0.j\n",
      "  0.        +0.j  0.54772256+0.j  0.        +0.j -0.63245553+0.j\n",
      "  0.        +0.j  0.54772256+0.j  0.        +0.j  0.        +0.j\n",
      "  0.        +0.j  0.        +0.j  0.        +0.j]\n"
     ]
    }
   ],
   "source": [
    "print(prodTwoOne[13])"
   ]
  },
  {
   "cell_type": "code",
   "execution_count": 78,
   "id": "485d45aa",
   "metadata": {},
   "outputs": [
    {
     "name": "stdout",
     "output_type": "stream",
     "text": [
      "[ 0.31622777+0.j -0.5       +0.j -0.28867513+0.j  0.38729833+0.j\n",
      "  0.5       -0.j  0.        +0.j -0.40824829+0.j]\n"
     ]
    }
   ],
   "source": [
    "print(Iobj.CaligraphicC[:,6])"
   ]
  },
  {
   "cell_type": "code",
   "execution_count": 75,
   "id": "356c081a",
   "metadata": {},
   "outputs": [
    {
     "name": "stdout",
     "output_type": "stream",
     "text": [
      "0.5773502691896258\n"
     ]
    }
   ],
   "source": [
    "print(1/np.sqrt(3))"
   ]
  },
  {
   "cell_type": "code",
   "execution_count": null,
   "id": "ffef3274",
   "metadata": {},
   "outputs": [],
   "source": []
  }
 ],
 "metadata": {
  "kernelspec": {
   "display_name": "Python 3 (ipykernel)",
   "language": "python",
   "name": "python3"
  },
  "language_info": {
   "codemirror_mode": {
    "name": "ipython",
    "version": 3
   },
   "file_extension": ".py",
   "mimetype": "text/x-python",
   "name": "python",
   "nbconvert_exporter": "python",
   "pygments_lexer": "ipython3",
   "version": "3.8.10"
  }
 },
 "nbformat": 4,
 "nbformat_minor": 5
}
