{
 "cells": [
  {
   "cell_type": "code",
   "execution_count": 1,
   "id": "45116e92",
   "metadata": {},
   "outputs": [],
   "source": [
    "import numpy as np\n",
    "import sys\n",
    "lib_path = \"../../ampyl\"\n",
    "sys.path.append(lib_path + \"/ampyl\")\n",
    "sys.path.append(lib_path + \"/ampyl/isospin\")"
   ]
  },
  {
   "cell_type": "code",
   "execution_count": 2,
   "id": "f928b3dd",
   "metadata": {},
   "outputs": [],
   "source": [
    "import isospin as iso"
   ]
  },
  {
   "cell_type": "code",
   "execution_count": 3,
   "id": "56263de8",
   "metadata": {},
   "outputs": [
    {
     "name": "stdout",
     "output_type": "stream",
     "text": [
      "[ 1.  0. -1.]\n"
     ]
    }
   ],
   "source": [
    "SpinObj = iso.SpinObj(1.0)\n",
    "print(SpinObj.mlist)\n",
    "Jobj = iso.IsospinComposite(2.0,1.0)"
   ]
  },
  {
   "cell_type": "code",
   "execution_count": 4,
   "id": "a4488ea6",
   "metadata": {},
   "outputs": [
    {
     "name": "stdout",
     "output_type": "stream",
     "text": [
      "1.0\n",
      "3.0\n",
      "3\n",
      "[3.0, 2.0, 1.0]\n",
      "[[3.0, 2.0, 1.0, 0.0, -1.0, -2.0, -3.0], [2.0, 1.0, 0.0, -1.0, -2.0], [1.0, 0.0, -1.0]]\n"
     ]
    }
   ],
   "source": [
    "print(Jobj.jmin)\n",
    "print(Jobj.jmax)\n",
    "print(Jobj.nj)\n",
    "print(Jobj.jlist)\n",
    "print(Jobj.mlist)"
   ]
  },
  {
   "cell_type": "code",
   "execution_count": 5,
   "id": "f65ef4d9",
   "metadata": {},
   "outputs": [
    {
     "name": "stdout",
     "output_type": "stream",
     "text": [
      "[[2.0, 1.0], [2.0, 0.0], [2.0, -1.0], [1.0, 1.0], [1.0, 0.0], [1.0, -1.0], [0.0, 1.0], [0.0, 0.0], [0.0, -1.0], [-1.0, 1.0], [-1.0, 0.0], [-1.0, -1.0], [-2.0, 1.0], [-2.0, 0.0], [-2.0, -1.0]]\n"
     ]
    }
   ],
   "source": [
    "ucb = Jobj.get_uncoupled_basis()\n",
    "print(ucb)"
   ]
  },
  {
   "cell_type": "code",
   "execution_count": 6,
   "id": "9380680e",
   "metadata": {},
   "outputs": [
    {
     "name": "stdout",
     "output_type": "stream",
     "text": [
      "[[3.0, 2.0, 1.0], [[3.0, 2.0, 1.0, 0.0, -1.0, -2.0, -3.0], [2.0, 1.0, 0.0, -1.0, -2.0], [1.0, 0.0, -1.0]], [7, 5, 3]]\n"
     ]
    }
   ],
   "source": [
    "cb = Jobj.get_coupled_basis()\n",
    "print(cb)"
   ]
  },
  {
   "cell_type": "code",
   "execution_count": 7,
   "id": "441d275d",
   "metadata": {},
   "outputs": [],
   "source": [
    "#for i in range(0,len(cb[0])):\n",
    "#    for mJ in cb[1][i]:\n",
    "#        idx = Jobj.get_ucb_index(mJ)\n",
    "#        print(\"m = \" + str(mJ) + \", idx = \" + str(idx) + \",(m1,m2) building blocks = \" + str([ucb[elem] for elem in idx]))\n",
    "#    print(\"\\n\")"
   ]
  },
  {
   "cell_type": "code",
   "execution_count": 8,
   "id": "1924aa9c",
   "metadata": {},
   "outputs": [
    {
     "name": "stdout",
     "output_type": "stream",
     "text": [
      "3\n"
     ]
    }
   ],
   "source": [
    "print(len(cb[0]))"
   ]
  },
  {
   "cell_type": "code",
   "execution_count": 9,
   "id": "e9327aeb",
   "metadata": {},
   "outputs": [
    {
     "name": "stdout",
     "output_type": "stream",
     "text": [
      "Info on building blocks for coupled states --- column indices in the CG matrix.\n",
      "Set of J values = [3.0, 2.0, 1.0]\n",
      "\n",
      "m = 3.0, Index set = [0], (m1,m2) building blocks = [[2.0, 1.0]]\n",
      "m = 2.0, Index set = [1, 3], (m1,m2) building blocks = [[2.0, 0.0], [1.0, 1.0]]\n",
      "m = 1.0, Index set = [2, 4, 6], (m1,m2) building blocks = [[2.0, -1.0], [1.0, 0.0], [0.0, 1.0]]\n",
      "m = 0.0, Index set = [5, 7, 9], (m1,m2) building blocks = [[1.0, -1.0], [0.0, 0.0], [-1.0, 1.0]]\n",
      "m = -1.0, Index set = [8, 10, 12], (m1,m2) building blocks = [[0.0, -1.0], [-1.0, 0.0], [-2.0, 1.0]]\n",
      "m = -2.0, Index set = [11, 13], (m1,m2) building blocks = [[-1.0, -1.0], [-2.0, 0.0]]\n",
      "m = -3.0, Index set = [14], (m1,m2) building blocks = [[-2.0, -1.0]]\n",
      "\n",
      "\n",
      "m = 2.0, Index set = [1, 3], (m1,m2) building blocks = [[2.0, 0.0], [1.0, 1.0]]\n",
      "m = 1.0, Index set = [2, 4, 6], (m1,m2) building blocks = [[2.0, -1.0], [1.0, 0.0], [0.0, 1.0]]\n",
      "m = 0.0, Index set = [5, 7, 9], (m1,m2) building blocks = [[1.0, -1.0], [0.0, 0.0], [-1.0, 1.0]]\n",
      "m = -1.0, Index set = [8, 10, 12], (m1,m2) building blocks = [[0.0, -1.0], [-1.0, 0.0], [-2.0, 1.0]]\n",
      "m = -2.0, Index set = [11, 13], (m1,m2) building blocks = [[-1.0, -1.0], [-2.0, 0.0]]\n",
      "\n",
      "\n",
      "m = 1.0, Index set = [2, 4, 6], (m1,m2) building blocks = [[2.0, -1.0], [1.0, 0.0], [0.0, 1.0]]\n",
      "m = 0.0, Index set = [5, 7, 9], (m1,m2) building blocks = [[1.0, -1.0], [0.0, 0.0], [-1.0, 1.0]]\n",
      "m = -1.0, Index set = [8, 10, 12], (m1,m2) building blocks = [[0.0, -1.0], [-1.0, 0.0], [-2.0, 1.0]]\n",
      "\n",
      "\n"
     ]
    }
   ],
   "source": [
    "Jobj.get_cg_col_info()"
   ]
  },
  {
   "cell_type": "code",
   "execution_count": 10,
   "id": "c6ce8997",
   "metadata": {},
   "outputs": [
    {
     "name": "stdout",
     "output_type": "stream",
     "text": [
      "Jval = 3.0\n",
      "0\n",
      "1\n",
      "2\n",
      "3\n",
      "4\n",
      "5\n",
      "6\n",
      "Jval = 2.0\n",
      "7\n",
      "8\n",
      "9\n",
      "10\n",
      "11\n",
      "Jval = 1.0\n",
      "12\n",
      "13\n",
      "14\n"
     ]
    }
   ],
   "source": [
    "for Jval in cb[0]:\n",
    "    print(\"Jval = \" + str(Jval))\n",
    "    im = cb[0].index(Jval)\n",
    "    for m in cb[1][im]:\n",
    "        rowidx = Jobj.get_cg_row_index(Jval,m)\n",
    "        print(rowidx)"
   ]
  },
  {
   "cell_type": "code",
   "execution_count": 11,
   "id": "a5ada93a",
   "metadata": {},
   "outputs": [
    {
     "name": "stdout",
     "output_type": "stream",
     "text": [
      "[[1.0, 1.0, 1.0], [1.0, 1.0, 0.0], [1.0, 1.0, -1.0], [1.0, 0.0, 1.0], [1.0, 0.0, 0.0], [1.0, 0.0, -1.0], [1.0, -1.0, 1.0], [1.0, -1.0, 0.0], [1.0, -1.0, -1.0], [0.0, 1.0, 1.0], [0.0, 1.0, 0.0], [0.0, 1.0, -1.0], [0.0, 0.0, 1.0], [0.0, 0.0, 0.0], [0.0, 0.0, -1.0], [0.0, -1.0, 1.0], [0.0, -1.0, 0.0], [0.0, -1.0, -1.0], [-1.0, 1.0, 1.0], [-1.0, 1.0, 0.0], [-1.0, 1.0, -1.0], [-1.0, 0.0, 1.0], [-1.0, 0.0, 0.0], [-1.0, 0.0, -1.0], [-1.0, -1.0, 1.0], [-1.0, -1.0, 0.0], [-1.0, -1.0, -1.0]]\n",
      "[[1.0, 0.0, -1.0], [1.0, -1.0, 0.0], [0.0, 1.0, -1.0], [0.0, 0.0, 0.0], [0.0, -1.0, 1.0], [-1.0, 1.0, 0.0], [-1.0, 0.0, 1.0]]\n",
      "[3.0, 2.0, 1.0, 0.0]\n",
      "[[3.0, 2.0, 1.0], [2.0, 1.0, 0.0], [1.0]]\n",
      "[2.0, 1.0, 0.0]\n",
      "[[[0, 0]], [[0, 1], [1, 0]], [[0, 2], [1, 1], [2, 0]], [[1, 2]]]\n",
      "[[2.0], [2.0, 1.0], [2.0, 1.0, 0.0], [1.0]]\n"
     ]
    }
   ],
   "source": [
    "Iobj = iso.TPIsospinComposite()\n",
    "print(Iobj.TPuncoupledbasis)\n",
    "print(Iobj.TPIzerochannelbasis)\n",
    "print(Iobj.Ilist)\n",
    "print(Iobj.Ishelllist)\n",
    "x,y = Iobj.get_Ishell_ancestors()\n",
    "print(Iobj.Dimer.jlist)\n",
    "print(x)\n",
    "print(y)"
   ]
  },
  {
   "cell_type": "code",
   "execution_count": 12,
   "id": "7b435b86",
   "metadata": {},
   "outputs": [
    {
     "name": "stdout",
     "output_type": "stream",
     "text": [
      "Total isospin in descending order:\n",
      "\n",
      "I3 = 3.0 contains:\n",
      "  J2 = 2.0\n",
      "I3 = 2.0 contains:\n",
      "  J2 = 2.0\n",
      "  J2 = 1.0\n",
      "I3 = 1.0 contains:\n",
      "  J2 = 2.0\n",
      "  J2 = 1.0\n",
      "  J2 = 0.0\n",
      "I3 = 0.0 contains:\n",
      "  J2 = 1.0\n"
     ]
    }
   ],
   "source": [
    "Iobj.print_Ishell_composition()"
   ]
  },
  {
   "cell_type": "code",
   "execution_count": 13,
   "id": "5e3014d8",
   "metadata": {},
   "outputs": [
    {
     "name": "stdout",
     "output_type": "stream",
     "text": [
      "[<isospin.IsospinComposite object at 0x11469bc70>, <isospin.IsospinComposite object at 0x11469b3a0>, <isospin.IsospinComposite object at 0x11469bac0>]\n"
     ]
    }
   ],
   "source": [
    "print(Iobj.DimerSpectatorList)"
   ]
  },
  {
   "cell_type": "code",
   "execution_count": null,
   "id": "774843e7",
   "metadata": {},
   "outputs": [],
   "source": []
  }
 ],
 "metadata": {
  "kernelspec": {
   "display_name": "Python 3 (ipykernel)",
   "language": "python",
   "name": "python3"
  },
  "language_info": {
   "codemirror_mode": {
    "name": "ipython",
    "version": 3
   },
   "file_extension": ".py",
   "mimetype": "text/x-python",
   "name": "python",
   "nbconvert_exporter": "python",
   "pygments_lexer": "ipython3",
   "version": "3.8.9"
  }
 },
 "nbformat": 4,
 "nbformat_minor": 5
}
